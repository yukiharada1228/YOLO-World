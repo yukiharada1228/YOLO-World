{
 "cells": [
  {
   "cell_type": "code",
   "execution_count": 1,
   "metadata": {},
   "outputs": [
    {
     "name": "stdout",
     "output_type": "stream",
     "text": [
      "Downloading https://github.com/ultralytics/assets/releases/download/v8.2.0/yolov8x-worldv2.pt to 'yolov8x-worldv2.pt'...\n"
     ]
    },
    {
     "name": "stderr",
     "output_type": "stream",
     "text": [
      "100%|██████████| 140M/140M [00:09<00:00, 15.0MB/s] \n"
     ]
    },
    {
     "name": "stdout",
     "output_type": "stream",
     "text": [
      "Ultralytics YOLOv8.2.48 🚀 Python-3.10.14 torch-2.3.1 CUDA:0 (NVIDIA GeForce RTX 3090, 24253MiB)\n",
      "YOLOv8x-worldv2 summary (fused): 295 layers, 72856217 parameters, 0 gradients, 308.6 GFLOPs\n",
      "\n",
      "Dataset 'coco8.yaml' images not found ⚠️, missing path '/usr/src/datasets/coco8/images/val'\n",
      "Downloading https://ultralytics.com/assets/coco8.zip to '/usr/src/datasets/coco8.zip'...\n"
     ]
    },
    {
     "name": "stderr",
     "output_type": "stream",
     "text": [
      "100%|██████████| 433k/433k [00:00<00:00, 21.4MB/s]\n",
      "Unzipping /usr/src/datasets/coco8.zip to /usr/src/datasets/coco8...: 100%|██████████| 25/25 [00:00<00:00, 8599.82file/s]"
     ]
    },
    {
     "name": "stdout",
     "output_type": "stream",
     "text": [
      "Dataset download success ✅ (2.0s), saved to \u001b[1m/usr/src/datasets\u001b[0m\n",
      "\n"
     ]
    },
    {
     "name": "stderr",
     "output_type": "stream",
     "text": [
      "\n",
      "\u001b[34m\u001b[1mval: \u001b[0mScanning /usr/src/datasets/coco8/labels/val... 4 images, 0 backgrounds, 0 corrupt: 100%|██████████| 4/4 [00:00<00:00, 1399.38it/s]"
     ]
    },
    {
     "name": "stdout",
     "output_type": "stream",
     "text": [
      "\u001b[34m\u001b[1mval: \u001b[0mNew cache created: /usr/src/datasets/coco8/labels/val.cache\n"
     ]
    },
    {
     "name": "stderr",
     "output_type": "stream",
     "text": [
      "\n",
      "                 Class     Images  Instances      Box(P          R      mAP50  mAP50-95): 100%|██████████| 1/1 [00:00<00:00,  1.68it/s]\n"
     ]
    },
    {
     "name": "stdout",
     "output_type": "stream",
     "text": [
      "                   all          4         17      0.714       0.95      0.961      0.657\n",
      "                person          3         10      0.658        0.7      0.791      0.507\n",
      "                   dog          1          1      0.889          1      0.995      0.517\n",
      "                 horse          1          2      0.681          1      0.995      0.625\n",
      "              elephant          1          2          1      0.999      0.995      0.504\n",
      "              umbrella          1          1      0.505          1      0.995      0.995\n",
      "          potted plant          1          1      0.552          1      0.995      0.796\n",
      "Speed: 0.1ms preprocess, 21.8ms inference, 0.0ms loss, 12.5ms postprocess per image\n",
      "Results saved to \u001b[1m/usr/src/ultralytics/runs/detect/val\u001b[0m\n"
     ]
    }
   ],
   "source": [
    "from ultralytics import YOLO\n",
    "\n",
    "# Create a YOLO-World model\n",
    "model = YOLO(\"yolov8x-worldv2.pt\")  # or select yolov8m/l-world.pt for different sizes\n",
    "\n",
    "# Conduct model validation on the COCO8 example dataset\n",
    "metrics = model.val(data=\"coco8.yaml\")"
   ]
  }
 ],
 "metadata": {
  "kernelspec": {
   "display_name": "base",
   "language": "python",
   "name": "python3"
  },
  "language_info": {
   "codemirror_mode": {
    "name": "ipython",
    "version": 3
   },
   "file_extension": ".py",
   "mimetype": "text/x-python",
   "name": "python",
   "nbconvert_exporter": "python",
   "pygments_lexer": "ipython3",
   "version": "3.10.14"
  }
 },
 "nbformat": 4,
 "nbformat_minor": 2
}
